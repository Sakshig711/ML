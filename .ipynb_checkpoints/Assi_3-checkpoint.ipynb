{
 "cells": [
  {
   "cell_type": "code",
   "execution_count": 1,
   "id": "ae7621be",
   "metadata": {},
   "outputs": [],
   "source": [
    "import numpy as np\n",
    "from sklearn.cluster import KMeans"
   ]
  },
  {
   "cell_type": "code",
   "execution_count": 2,
   "id": "f0dcd602",
   "metadata": {},
   "outputs": [],
   "source": [
    "points = np.array([[0.1, 0.6], [0.15, 0.71], [0.08, 0.9], [0.16, 0.85], \n",
    "                   [0.2, 0.3], [0.25, 0.5], [0.24, 0.1], [0.3, 0.2]])"
   ]
  },
  {
   "cell_type": "code",
   "execution_count": 3,
   "id": "37d29f84",
   "metadata": {},
   "outputs": [],
   "source": [
    "centroid = np.array([[0.1, 0.6], [0.15, 0.71]])"
   ]
  },
  {
   "cell_type": "code",
   "execution_count": null,
   "id": "3e1fcad9",
   "metadata": {},
   "outputs": [],
   "source": []
  },
  {
   "cell_type": "markdown",
   "id": "72bbf25e",
   "metadata": {},
   "source": [
    "kmeans = KMeans(n_clusters=2, init=centroid, n_init=1, random_state=42)"
   ]
  },
  {
   "cell_type": "code",
   "execution_count": null,
   "id": "753220e1",
   "metadata": {},
   "outputs": [],
   "source": [
    "labels = "
   ]
  }
 ],
 "metadata": {
  "kernelspec": {
   "display_name": "Python 3 (ipykernel)",
   "language": "python",
   "name": "python3"
  },
  "language_info": {
   "codemirror_mode": {
    "name": "ipython",
    "version": 3
   },
   "file_extension": ".py",
   "mimetype": "text/x-python",
   "name": "python",
   "nbconvert_exporter": "python",
   "pygments_lexer": "ipython3",
   "version": "3.9.13"
  }
 },
 "nbformat": 4,
 "nbformat_minor": 5
}
